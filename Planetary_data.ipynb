{
 "cells": [
  {
   "cell_type": "markdown",
   "metadata": {},
   "source": [
    "# Planetary data\n",
    "\n",
    "This notebook provides the planetary data for the simulation\n",
    "\n",
    "Author: Sandro Ricardo De Souza: <sandro.fisica@gmail.com>"
   ]
  },
  {
   "cell_type": "markdown",
   "metadata": {},
   "source": [
    "## Import modules"
   ]
  },
  {
   "cell_type": "code",
   "execution_count": 1,
   "metadata": {
    "collapsed": true
   },
   "outputs": [],
   "source": [
    "import numpy as np\n",
    "import pandas as pd\n",
    "import math"
   ]
  },
  {
   "cell_type": "markdown",
   "metadata": {},
   "source": [
    "## Create planets data\n",
    "### J2000\n",
    "\n",
    "Data from <https://nssdc.gsfc.nasa.gov/planetary/>\n",
    "\n",
    "Data sequence: 'Venus', 'Earth', 'Mars', 'Jupiter', 'Saturn', 'Uranus', 'Neptune'"
   ]
  },
  {
   "cell_type": "code",
   "execution_count": 2,
   "metadata": {
    "collapsed": false
   },
   "outputs": [],
   "source": [
    "# Planet's names\n",
    "planets_name = pd.Series(['Venus', 'Earth', 'Mars', 'Jupiter', 'Saturn', 'Uranus', 'Neptune'])\n",
    "\n",
    "# Semi-axis [au]\n",
    "a = pd.Series([0.72333199, 1.00000011, 1.52366231, 5.20336301, 9.53707032, 19.19126393, 30.06896348])\n",
    "\n",
    "# Eccentricity\n",
    "e =pd.Series([0.00677323, 0.01671022, 0.09341233, 0.04839266, 0.05415060, 0.04716771, 0.00858587])\n",
    "\n",
    "# Inclination [deg]\n",
    "i = pd.Series([3.39471, 0.00005, 1.85061, 1.30530, 2.48446, 0.76986, 1.76917])\n",
    "\n",
    "# Long. of ascending node [deg]\n",
    "capom = pd.Series([76.68069, -11.26064, 49.57854, 100.55615, 113.71504, 74.22988, 131.72169])\n",
    "\n",
    "# arg. of peri. [deg]\n",
    "omega = pd.Series([131.53298, 102.94719, 336.04084, 14.75385, 92.43194, 170.96424, 44.97135])\n",
    "\n",
    "# Mean anomaly [deg]\n",
    "M = pd.Series([181.97973, 100.46435, 355.45332, 34.40438, 49.94432, 313.23218, 304.88003])\n",
    "\n",
    "# Mass [kg]\n",
    "mass = pd.Series([4.8675, 5.9723, 0.64171, 1898.19, 568.34, 86.813, 102.413]) * 1e24\n",
    "\n",
    "# Equatorial radius [km]\n",
    "radio = pd.Series([6051.8, 6378.137, 3396.2, 71492, 60268, 25559, 24764])\n",
    "\n",
    "# Period [days]\n",
    "period = pd.Series([224.701, 365.256, 686.980, 4332.589, 10759.22, 30685.4, 60189])"
   ]
  },
  {
   "cell_type": "code",
   "execution_count": 3,
   "metadata": {
    "collapsed": false
   },
   "outputs": [],
   "source": [
    "# Create a data frame from data series\n",
    "planets = pd.DataFrame({'planets_name': planets_name, 'a': a, 'e': e, 'i': i, 'capom': capom, 'omega': omega, 'M': M, 'mass': mass, 'radio': radio, 'period': period})"
   ]
  },
  {
   "cell_type": "code",
   "execution_count": 4,
   "metadata": {
    "collapsed": false
   },
   "outputs": [],
   "source": [
    "# Make planets_name index\n",
    "planets = planets.set_index('planets_name')"
   ]
  },
  {
   "cell_type": "code",
   "execution_count": 5,
   "metadata": {
    "collapsed": false
   },
   "outputs": [],
   "source": [
    "# Changing the order of the columns.\n",
    "planets = planets[['a', 'e', 'i', 'capom', 'omega', 'M', 'mass', 'radio', 'period']]"
   ]
  },
  {
   "cell_type": "markdown",
   "metadata": {},
   "source": [
    "## Create new columns\n",
    "\n",
    "### Considering G = 1\n",
    "\n",
    "Considering $G = 1$, the mass of the planets is\n",
    "\n",
    "$$m_\\text{grav} = \\frac{m_\\text{kg} \\cdot GM_\\text{sun}}{M_\\odot}$$"
   ]
  },
  {
   "cell_type": "code",
   "execution_count": 6,
   "metadata": {
    "collapsed": false
   },
   "outputs": [],
   "source": [
    "# Mass of the Sum, in kg\n",
    "mass_sun_kg = 1988500e24\n",
    "\n",
    "# Mass of the Sun, with G = 1\n",
    "mass_sun_grav = 2.959139768995959e-04\n",
    "\n",
    "# Conic section is ellipse\n",
    "ialpha = 1\n",
    "\n",
    "# Gravitational factor of the Sun\n",
    "gm =  2.959139768995959e-04"
   ]
  },
  {
   "cell_type": "code",
   "execution_count": 7,
   "metadata": {
    "collapsed": false
   },
   "outputs": [],
   "source": [
    "# Create mass_grav column\n",
    "planets['mass_grav'] = planets.mass * mass_sun_grav / mass_sun_kg"
   ]
  },
  {
   "cell_type": "code",
   "execution_count": 8,
   "metadata": {
    "collapsed": true
   },
   "outputs": [],
   "source": [
    "# Create gmpl\n",
    "planets['gmpl'] = gm + planets.mass_grav"
   ]
  },
  {
   "cell_type": "code",
   "execution_count": 9,
   "metadata": {
    "collapsed": false
   },
   "outputs": [],
   "source": [
    "gm = planets['gmpl']\n",
    "a = planets['a']\n",
    "e = planets['e']\n",
    "inc = planets['i']\n",
    "capom = planets['capom']\n",
    "omega = planets['omega']\n",
    "capm = planets['M']\n",
    "P = planets['period']\n",
    "rpl = planets['radio']\n",
    "ialpha = -1"
   ]
  },
  {
   "cell_type": "markdown",
   "metadata": {},
   "source": [
    "## Create position and velocity columns\n",
    "\n",
    "The module eo2pv.so, constructed from the Swift conversion subroutine, will be used."
   ]
  },
  {
   "cell_type": "code",
   "execution_count": 10,
   "metadata": {
    "collapsed": true
   },
   "outputs": [],
   "source": [
    "import eo2pv"
   ]
  },
  {
   "cell_type": "code",
   "execution_count": 11,
   "metadata": {
    "collapsed": false
   },
   "outputs": [],
   "source": [
    "len_planets = len(planets)\n",
    "\n",
    "x = np.zeros(len_planets)\n",
    "y = np.zeros(len_planets)\n",
    "z = np.zeros(len_planets)\n",
    "vx = np.zeros(len_planets)\n",
    "vy = np.zeros(len_planets)\n",
    "vz = np.zeros(len_planets)\n",
    "\n",
    "for j in range(len(planets)):\n",
    "    x[j], y[j], z[j], vx[j], vy[j], vz[j] = eo2pv.orbel_el2xv(gm[j],ialpha,\\\n",
    "                                            a[j],e[j],math.radians(inc[j]),\\\n",
    "                                            math.radians(capom[j]),math.radians(omega[j]),capm[j])"
   ]
  },
  {
   "cell_type": "code",
   "execution_count": 12,
   "metadata": {
    "collapsed": false
   },
   "outputs": [],
   "source": [
    "# Create colums x, y, v, vx, vy and vz\n",
    "planets['x'] = x\n",
    "planets['y'] = y\n",
    "planets['z'] = z\n",
    "planets['vx'] = vx\n",
    "planets['vy'] = vy\n",
    "planets['vz'] = vz"
   ]
  },
  {
   "cell_type": "code",
   "execution_count": 23,
   "metadata": {
    "collapsed": false
   },
   "outputs": [
    {
     "name": "stdout",
     "output_type": "stream",
     "text": [
      "                      a         e        i      capom      omega          M  \\\n",
      "planets_name                                                                  \n",
      "Venus          0.723332  0.006773  3.39471   76.68069  131.53298  181.97973   \n",
      "Earth          1.000000  0.016710  0.00005  -11.26064  102.94719  100.46435   \n",
      "Mars           1.523662  0.093412  1.85061   49.57854  336.04084  355.45332   \n",
      "Jupiter        5.203363  0.048393  1.30530  100.55615   14.75385   34.40438   \n",
      "Saturn         9.537070  0.054151  2.48446  113.71504   92.43194   49.94432   \n",
      "Uranus        19.191264  0.047168  0.76986   74.22988  170.96424  313.23218   \n",
      "Neptune       30.068963  0.008586  1.76917  131.72169   44.97135  304.88003   \n",
      "\n",
      "                      mass      radio     period     mass_grav      gmpl  \\\n",
      "planets_name                                                               \n",
      "Venus         4.867500e+24   6051.800    224.701  7.243456e-10  0.000296   \n",
      "Earth         5.972300e+24   6378.137    365.256  8.887539e-10  0.000296   \n",
      "Mars          6.417100e+23   3396.200    686.980  9.549457e-11  0.000296   \n",
      "Jupiter       1.898190e+27  71492.000   4332.589  2.824747e-07  0.000296   \n",
      "Saturn        5.683400e+26  60268.000  10759.220  8.457619e-08  0.000296   \n",
      "Uranus        8.681300e+25  25559.000  30685.400  1.291887e-08  0.000296   \n",
      "Neptune       1.024130e+26  24764.000  60189.000  1.524035e-08  0.000296   \n",
      "\n",
      "                      x         y             z        vx        vy  \\\n",
      "planets_name                                                          \n",
      "Venus         -0.693951 -0.182644  3.756081e-02  0.005182 -0.019681   \n",
      "Earth          0.038783  0.982563  8.475503e-07 -0.017479  0.000670   \n",
      "Mars          -1.120359 -1.216589  2.070521e-03  0.009726 -0.008299   \n",
      "Jupiter        1.624341 -5.204891 -1.465851e-02  0.006878  0.002094   \n",
      "Saturn        -8.998631 -0.888266  3.729740e-01  0.000684 -0.005823   \n",
      "Uranus       -18.510975 -2.470160  2.303558e-01  0.000688 -0.003974   \n",
      "Neptune       30.205400  2.577684 -7.493463e-01 -0.000270  0.003098   \n",
      "\n",
      "                        vz  \n",
      "planets_name                \n",
      "Venus        -5.680931e-04  \n",
      "Earth        -2.404959e-09  \n",
      "Mars         -4.130948e-04  \n",
      "Jupiter      -1.628159e-04  \n",
      "Saturn        7.442799e-05  \n",
      "Uranus       -2.341174e-05  \n",
      "Neptune      -5.747276e-05  \n"
     ]
    }
   ],
   "source": [
    "print(planets)"
   ]
  },
  {
   "cell_type": "code",
   "execution_count": 13,
   "metadata": {
    "collapsed": false
   },
   "outputs": [],
   "source": [
    "# Create csv files from planetary data\n",
    "planets.to_csv('Planets/planets.csv')"
   ]
  }
 ],
 "metadata": {
  "kernelspec": {
   "display_name": "Python 3",
   "language": "python",
   "name": "python3"
  },
  "language_info": {
   "codemirror_mode": {
    "name": "ipython",
    "version": 3
   },
   "file_extension": ".py",
   "mimetype": "text/x-python",
   "name": "python",
   "nbconvert_exporter": "python",
   "pygments_lexer": "ipython3",
   "version": "3.6.0"
  }
 },
 "nbformat": 4,
 "nbformat_minor": 2
}
