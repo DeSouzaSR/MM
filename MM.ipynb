{
 "cells": [
  {
   "cell_type": "markdown",
   "metadata": {},
   "source": [
    "# MM\n",
    "## Multiples Mercury\n",
    "\n",
    "This project uses the Swift integrator to simulate multiple Mercury-type planets.\n",
    "\n",
    "Author: Sandro Ricardo De Souza: <sandro.fisica@gmail.com>"
   ]
  },
  {
   "cell_type": "markdown",
   "metadata": {
    "collapsed": true
   },
   "source": [
    "## Import modules"
   ]
  },
  {
   "cell_type": "code",
   "execution_count": 1,
   "metadata": {
    "collapsed": true
   },
   "outputs": [],
   "source": [
    "import os\n",
    "import glob\n",
    "import numpy as np"
   ]
  },
  {
   "cell_type": "markdown",
   "metadata": {},
   "source": [
    "## Define names"
   ]
  },
  {
   "cell_type": "code",
   "execution_count": 2,
   "metadata": {
    "collapsed": true
   },
   "outputs": [],
   "source": [
    "# Name of the simulation\n",
    "name_simulation = 'Mercury'\n",
    "\n",
    "# Name for each Mercury's cadidates varying the semi-axis\n",
    "sufix_list = ['A', 'B', 'C', 'D', 'E', 'F', 'G', 'H', 'I']\n",
    "\n",
    "# Numbers of the Mercury's candidates varying the angles\n",
    "number_canditates = 100"
   ]
  },
  {
   "cell_type": "markdown",
   "metadata": {},
   "source": [
    "## Create directory of the simulations\n",
    "\n",
    "For each mercury directory, to create subdirectory with a Mercury variation"
   ]
  },
  {
   "cell_type": "code",
   "execution_count": 3,
   "metadata": {
    "collapsed": true
   },
   "outputs": [],
   "source": [
    "def pl():\n",
    "    with open('pl.in', 'w') as f:\n",
    "        f.write(np.random.random(3))"
   ]
  },
  {
   "cell_type": "code",
   "execution_count": 9,
   "metadata": {
    "collapsed": false
   },
   "outputs": [],
   "source": [
    "for char in sufix_list:\n",
    "    os.mkdir(name_simulation + char)\n",
    "    os.chdir(name_simulation + char)\n",
    "    for i in range(number_canditates):\n",
    "        os.mkdir(name_simulation + char + str(i))\n",
    "        os.chdir(name_simulation + char + str(i))\n",
    "        pl()\n",
    "        os.chdir('../')\n",
    "    os.chdir('../')"
   ]
  },
  {
   "cell_type": "code",
   "execution_count": 5,
   "metadata": {
    "collapsed": false
   },
   "outputs": [
    {
     "name": "stdout",
     "output_type": "stream",
     "text": [
      "Candidates organized in order of distance\n",
      "['MercuryA', 'MercuryB', 'MercuryC', 'MercuryD', 'MercuryE', 'MercuryF', 'MercuryG', 'MercuryH', 'MercuryI']\n"
     ]
    }
   ],
   "source": [
    "print('Candidates organized in order of distance')\n",
    "print(glob.glob('Mercury*'))"
   ]
  },
  {
   "cell_type": "code",
   "execution_count": 6,
   "metadata": {
    "collapsed": false
   },
   "outputs": [
    {
     "name": "stdout",
     "output_type": "stream",
     "text": [
      "10 Cadidates with distance A\n"
     ]
    },
    {
     "data": {
      "text/plain": [
       "['MercuryA/MercuryA0',\n",
       " 'MercuryA/MercuryA1',\n",
       " 'MercuryA/MercuryA2',\n",
       " 'MercuryA/MercuryA3',\n",
       " 'MercuryA/MercuryA4',\n",
       " 'MercuryA/MercuryA5',\n",
       " 'MercuryA/MercuryA6',\n",
       " 'MercuryA/MercuryA7',\n",
       " 'MercuryA/MercuryA8',\n",
       " 'MercuryA/MercuryA9']"
      ]
     },
     "execution_count": 6,
     "metadata": {},
     "output_type": "execute_result"
    }
   ],
   "source": [
    "print('10 Cadidates with distance A')\n",
    "glob.glob('MercuryA/*')[0:10]"
   ]
  },
  {
   "cell_type": "code",
   "execution_count": 7,
   "metadata": {
    "collapsed": false
   },
   "outputs": [
    {
     "data": {
      "text/plain": [
       "100"
      ]
     },
     "execution_count": 7,
     "metadata": {},
     "output_type": "execute_result"
    }
   ],
   "source": [
    "len(glob.glob('MercuryA/*'))"
   ]
  },
  {
   "cell_type": "code",
   "execution_count": 8,
   "metadata": {
    "collapsed": false
   },
   "outputs": [
    {
     "name": "stdout",
     "output_type": "stream",
     "text": [
      "[ 0.48340257  0.85913531  0.84442036]\n"
     ]
    }
   ],
   "source": [
    "print(str(np.random.random(3)))"
   ]
  },
  {
   "cell_type": "code",
   "execution_count": null,
   "metadata": {
    "collapsed": true
   },
   "outputs": [],
   "source": []
  }
 ],
 "metadata": {
  "kernelspec": {
   "display_name": "Python 3",
   "language": "python",
   "name": "python3"
  },
  "language_info": {
   "codemirror_mode": {
    "name": "ipython",
    "version": 3
   },
   "file_extension": ".py",
   "mimetype": "text/x-python",
   "name": "python",
   "nbconvert_exporter": "python",
   "pygments_lexer": "ipython3",
   "version": "3.6.0"
  }
 },
 "nbformat": 4,
 "nbformat_minor": 2
}
