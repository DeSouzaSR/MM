{
 "cells": [
  {
   "cell_type": "markdown",
   "metadata": {},
   "source": [
    "# MM\n",
    "## Multiples Mercury\n",
    "\n",
    "This project uses the Swift integrator to simulate multiple Mercury-type planets.\n",
    "\n",
    "Author: Sandro Ricardo De Souza: <sandro.fisica@gmail.com>"
   ]
  },
  {
   "cell_type": "markdown",
   "metadata": {
    "collapsed": true
   },
   "source": [
    "## Import modules"
   ]
  },
  {
   "cell_type": "code",
   "execution_count": 1,
   "metadata": {
    "collapsed": true
   },
   "outputs": [],
   "source": [
    "import os\n",
    "import glob"
   ]
  },
  {
   "cell_type": "markdown",
   "metadata": {},
   "source": [
    "## Define names"
   ]
  },
  {
   "cell_type": "code",
   "execution_count": 2,
   "metadata": {
    "collapsed": true
   },
   "outputs": [],
   "source": [
    "name_simulation = 'Mercury'\n",
    "sufix_list = ['A', 'B', 'C', 'D', 'E', 'F', 'G', 'H', 'I']"
   ]
  },
  {
   "cell_type": "markdown",
   "metadata": {},
   "source": [
    "## Create directory of the simulations\n",
    "\n",
    "For each mercury directory, to create subdirectory with a Mercury variation"
   ]
  },
  {
   "cell_type": "code",
   "execution_count": 3,
   "metadata": {
    "collapsed": true
   },
   "outputs": [],
   "source": [
    "def pl():\n",
    "    with open('pl.in', 'w') as f:\n",
    "        f.write('1 2 3\\n4 5 6\\n')"
   ]
  },
  {
   "cell_type": "code",
   "execution_count": 22,
   "metadata": {
    "collapsed": false
   },
   "outputs": [],
   "source": [
    "for char in sufix_list:\n",
    "    os.mkdir(name_simulation + char)\n",
    "    os.chdir(name_simulation + char)\n",
    "    for i in range(100):\n",
    "        os.mkdir(name_simulation + char + str(i))\n",
    "        os.chdir(name_simulation + char + str(i))\n",
    "        pl()\n",
    "        os.chdir('../')\n",
    "    os.chdir('../')"
   ]
  },
  {
   "cell_type": "code",
   "execution_count": 23,
   "metadata": {
    "collapsed": false
   },
   "outputs": [
    {
     "name": "stdout",
     "output_type": "stream",
     "text": [
      "['README.md', 'MM.ipynb', 'MercuryA', 'MercuryB', 'MercuryC', 'MercuryD', 'MercuryE', 'MercuryF', 'MercuryG', 'MercuryH', 'MercuryI']\n"
     ]
    }
   ],
   "source": [
    "print(glob.glob('*'))"
   ]
  },
  {
   "cell_type": "code",
   "execution_count": 24,
   "metadata": {
    "collapsed": false
   },
   "outputs": [
    {
     "data": {
      "text/plain": [
       "['MercuryA/MercuryA0',\n",
       " 'MercuryA/MercuryA1',\n",
       " 'MercuryA/MercuryA2',\n",
       " 'MercuryA/MercuryA3',\n",
       " 'MercuryA/MercuryA4',\n",
       " 'MercuryA/MercuryA5',\n",
       " 'MercuryA/MercuryA6',\n",
       " 'MercuryA/MercuryA7',\n",
       " 'MercuryA/MercuryA8',\n",
       " 'MercuryA/MercuryA9',\n",
       " 'MercuryA/MercuryA10',\n",
       " 'MercuryA/MercuryA11',\n",
       " 'MercuryA/MercuryA12',\n",
       " 'MercuryA/MercuryA13',\n",
       " 'MercuryA/MercuryA14',\n",
       " 'MercuryA/MercuryA15',\n",
       " 'MercuryA/MercuryA16',\n",
       " 'MercuryA/MercuryA17',\n",
       " 'MercuryA/MercuryA18',\n",
       " 'MercuryA/MercuryA19',\n",
       " 'MercuryA/MercuryA20',\n",
       " 'MercuryA/MercuryA21',\n",
       " 'MercuryA/MercuryA22',\n",
       " 'MercuryA/MercuryA23',\n",
       " 'MercuryA/MercuryA24',\n",
       " 'MercuryA/MercuryA25',\n",
       " 'MercuryA/MercuryA26',\n",
       " 'MercuryA/MercuryA27',\n",
       " 'MercuryA/MercuryA28',\n",
       " 'MercuryA/MercuryA29',\n",
       " 'MercuryA/MercuryA30',\n",
       " 'MercuryA/MercuryA31',\n",
       " 'MercuryA/MercuryA32',\n",
       " 'MercuryA/MercuryA33',\n",
       " 'MercuryA/MercuryA34',\n",
       " 'MercuryA/MercuryA35',\n",
       " 'MercuryA/MercuryA36',\n",
       " 'MercuryA/MercuryA37',\n",
       " 'MercuryA/MercuryA38',\n",
       " 'MercuryA/MercuryA39',\n",
       " 'MercuryA/MercuryA40',\n",
       " 'MercuryA/MercuryA41',\n",
       " 'MercuryA/MercuryA42',\n",
       " 'MercuryA/MercuryA43',\n",
       " 'MercuryA/MercuryA44',\n",
       " 'MercuryA/MercuryA45',\n",
       " 'MercuryA/MercuryA46',\n",
       " 'MercuryA/MercuryA47',\n",
       " 'MercuryA/MercuryA48',\n",
       " 'MercuryA/MercuryA49',\n",
       " 'MercuryA/MercuryA50',\n",
       " 'MercuryA/MercuryA51',\n",
       " 'MercuryA/MercuryA52',\n",
       " 'MercuryA/MercuryA53',\n",
       " 'MercuryA/MercuryA54',\n",
       " 'MercuryA/MercuryA55',\n",
       " 'MercuryA/MercuryA56',\n",
       " 'MercuryA/MercuryA57',\n",
       " 'MercuryA/MercuryA58',\n",
       " 'MercuryA/MercuryA59',\n",
       " 'MercuryA/MercuryA60',\n",
       " 'MercuryA/MercuryA61',\n",
       " 'MercuryA/MercuryA62',\n",
       " 'MercuryA/MercuryA63',\n",
       " 'MercuryA/MercuryA64',\n",
       " 'MercuryA/MercuryA65',\n",
       " 'MercuryA/MercuryA66',\n",
       " 'MercuryA/MercuryA67',\n",
       " 'MercuryA/MercuryA68',\n",
       " 'MercuryA/MercuryA69',\n",
       " 'MercuryA/MercuryA70',\n",
       " 'MercuryA/MercuryA71',\n",
       " 'MercuryA/MercuryA72',\n",
       " 'MercuryA/MercuryA73',\n",
       " 'MercuryA/MercuryA74',\n",
       " 'MercuryA/MercuryA75',\n",
       " 'MercuryA/MercuryA76',\n",
       " 'MercuryA/MercuryA77',\n",
       " 'MercuryA/MercuryA78',\n",
       " 'MercuryA/MercuryA79',\n",
       " 'MercuryA/MercuryA80',\n",
       " 'MercuryA/MercuryA81',\n",
       " 'MercuryA/MercuryA82',\n",
       " 'MercuryA/MercuryA83',\n",
       " 'MercuryA/MercuryA84',\n",
       " 'MercuryA/MercuryA85',\n",
       " 'MercuryA/MercuryA86',\n",
       " 'MercuryA/MercuryA87',\n",
       " 'MercuryA/MercuryA88',\n",
       " 'MercuryA/MercuryA89',\n",
       " 'MercuryA/MercuryA90',\n",
       " 'MercuryA/MercuryA91',\n",
       " 'MercuryA/MercuryA92',\n",
       " 'MercuryA/MercuryA93',\n",
       " 'MercuryA/MercuryA94',\n",
       " 'MercuryA/MercuryA95',\n",
       " 'MercuryA/MercuryA96',\n",
       " 'MercuryA/MercuryA97',\n",
       " 'MercuryA/MercuryA98',\n",
       " 'MercuryA/MercuryA99']"
      ]
     },
     "execution_count": 24,
     "metadata": {},
     "output_type": "execute_result"
    }
   ],
   "source": [
    "glob.glob('MercuryA/*')"
   ]
  },
  {
   "cell_type": "code",
   "execution_count": 25,
   "metadata": {
    "collapsed": false
   },
   "outputs": [
    {
     "data": {
      "text/plain": [
       "100"
      ]
     },
     "execution_count": 25,
     "metadata": {},
     "output_type": "execute_result"
    }
   ],
   "source": [
    "len(glob.glob('MercuryA/*'))"
   ]
  }
 ],
 "metadata": {
  "kernelspec": {
   "display_name": "Python 3",
   "language": "python",
   "name": "python3"
  },
  "language_info": {
   "codemirror_mode": {
    "name": "ipython",
    "version": 3
   },
   "file_extension": ".py",
   "mimetype": "text/x-python",
   "name": "python",
   "nbconvert_exporter": "python",
   "pygments_lexer": "ipython3",
   "version": "3.6.0"
  }
 },
 "nbformat": 4,
 "nbformat_minor": 2
}
