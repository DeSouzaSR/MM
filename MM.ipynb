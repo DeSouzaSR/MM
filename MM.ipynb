{
 "cells": [
  {
   "cell_type": "markdown",
   "metadata": {},
   "source": [
    "# MM\n",
    "## Multiples Mercury\n",
    "\n",
    "This project uses the Swift integrator to simulate multiple Mercury-type planets.\n",
    "\n",
    "Author: Sandro Ricardo De Souza: <sandro.fisica@gmail.com>"
   ]
  },
  {
   "cell_type": "markdown",
   "metadata": {
    "collapsed": true
   },
   "source": [
    "## Import modules"
   ]
  },
  {
   "cell_type": "code",
   "execution_count": 1,
   "metadata": {
    "collapsed": true
   },
   "outputs": [],
   "source": [
    "import os\n",
    "import glob"
   ]
  },
  {
   "cell_type": "markdown",
   "metadata": {},
   "source": [
    "## Define names"
   ]
  },
  {
   "cell_type": "code",
   "execution_count": 5,
   "metadata": {
    "collapsed": true
   },
   "outputs": [],
   "source": [
    "name_simulation = 'Mercury'\n",
    "sufix_list = ['A', 'B', 'C', 'D', 'E', 'F', 'G', 'H', 'I']"
   ]
  },
  {
   "cell_type": "markdown",
   "metadata": {},
   "source": [
    "## Create directory of the simulations\n",
    "\n",
    "For each mercury directory, to create subdirectory with a Mercury variation"
   ]
  },
  {
   "cell_type": "code",
   "execution_count": null,
   "metadata": {
    "collapsed": true
   },
   "outputs": [],
   "source": []
  },
  {
   "cell_type": "code",
   "execution_count": 6,
   "metadata": {
    "collapsed": false
   },
   "outputs": [],
   "source": [
    "for char in sufix_list:\n",
    "    os.mkdir(name_simulation + char)\n",
    "    os.chdir(name_simulation + char)\n",
    "    for i in range(99):\n",
    "        os.mkdir(name_simulation + char + str(i))\n",
    "        os.chdir(name_simulation + char + str(i))\n",
    "        with open('pl.in', 'w') as f:\n",
    "            f.write('1 2 3\\n4 5 6\\n')\n",
    "        os.chdir('../')\n",
    "    os.chdir('../')"
   ]
  }
 ],
 "metadata": {
  "kernelspec": {
   "display_name": "Python 3",
   "language": "python",
   "name": "python3"
  },
  "language_info": {
   "codemirror_mode": {
    "name": "ipython",
    "version": 3
   },
   "file_extension": ".py",
   "mimetype": "text/x-python",
   "name": "python",
   "nbconvert_exporter": "python",
   "pygments_lexer": "ipython3",
   "version": "3.6.0"
  }
 },
 "nbformat": 4,
 "nbformat_minor": 2
}
