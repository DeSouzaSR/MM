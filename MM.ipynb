{
 "cells": [
  {
   "cell_type": "markdown",
   "metadata": {},
   "source": [
    "# MM\n",
    "## Multiples Mercury\n",
    "\n",
    "This project uses the Swift integrator to simulate multiple Mercury-type planets.\n",
    "\n",
    "Author: Sandro Ricardo De Souza: <sandro.fisica@gmail.com>"
   ]
  },
  {
   "cell_type": "markdown",
   "metadata": {
    "collapsed": true
   },
   "source": [
    "## Import modules"
   ]
  },
  {
   "cell_type": "code",
   "execution_count": 1,
   "metadata": {
    "collapsed": true
   },
   "outputs": [],
   "source": [
    "import os\n",
    "import glob\n",
    "import numpy as np\n",
    "import shutil\n",
    "import pandas as pd"
   ]
  },
  {
   "cell_type": "markdown",
   "metadata": {},
   "source": [
    "## Define names"
   ]
  },
  {
   "cell_type": "code",
   "execution_count": 2,
   "metadata": {
    "collapsed": true
   },
   "outputs": [],
   "source": [
    "# Name of the simulation\n",
    "name_simulation = 'Mercury'\n",
    "\n",
    "# Directory path\n",
    "directory_path = \"Input_data/\"\n",
    "\n",
    "# Name for each Mercury's cadidates varying the semi-axis\n",
    "sufix_list = ['A', 'B', 'C', 'D', 'E', 'F', 'G', 'H', 'I']\n",
    "\n",
    "# Numbers of the Mercury's candidates varying the angles\n",
    "number_canditates = 100"
   ]
  },
  {
   "cell_type": "code",
   "execution_count": 3,
   "metadata": {
    "collapsed": false
   },
   "outputs": [],
   "source": [
    "planets = pd.read_csv('Planets/planets.csv', index_col='planets_name')"
   ]
  },
  {
   "cell_type": "markdown",
   "metadata": {},
   "source": [
    "## Create directory of the input files and pl files\n",
    "\n",
    "For each mercury directory, to create subdirectory with a Mercury variation"
   ]
  },
  {
   "cell_type": "code",
   "execution_count": 4,
   "metadata": {
    "collapsed": false
   },
   "outputs": [],
   "source": [
    "def pl():\n",
    "    preamble = \"\"\"8\n",
    "2.959139768995959E-04\n",
    "0.0 0.0 0.0\n",
    "0.0 0.0 0.0\n",
    " \"\"\" \n",
    "    with open('pl.in', 'w+') as f:\n",
    "        f.write(preamble)\n",
    "        for j in planets.index:\n",
    "            p_lines = str(planets.x[j]) + ' ' + str(planets.y[j]) + ' ' + str(planets.z[j]) + '\\n'\n",
    "            f.write(p_lines)                     "
   ]
  },
  {
   "cell_type": "code",
   "execution_count": 5,
   "metadata": {
    "collapsed": false
   },
   "outputs": [],
   "source": [
    "simul = directory_path + name_simulation\n",
    "\n",
    "for char in sufix_list:\n",
    "    if os.path.exists(simul + char):\n",
    "        shutil.rmtree(simul + char)\n",
    "    os.makedirs(simul + char)\n",
    "    os.chdir(simul + char)\n",
    "    for i in range(number_canditates):\n",
    "        if os.path.exists(name_simulation + char):\n",
    "            shutil.rmtree(name_simulation + char)\n",
    "        os.mkdir(name_simulation + char + str(i))\n",
    "        os.chdir(name_simulation + char + str(i))\n",
    "        pl()\n",
    "        os.chdir('../')\n",
    "    os.chdir('../../')"
   ]
  }
 ],
 "metadata": {
  "kernelspec": {
   "display_name": "Python 3",
   "language": "python",
   "name": "python3"
  },
  "language_info": {
   "codemirror_mode": {
    "name": "ipython",
    "version": 3
   },
   "file_extension": ".py",
   "mimetype": "text/x-python",
   "name": "python",
   "nbconvert_exporter": "python",
   "pygments_lexer": "ipython3",
   "version": "3.6.0"
  }
 },
 "nbformat": 4,
 "nbformat_minor": 2
}
