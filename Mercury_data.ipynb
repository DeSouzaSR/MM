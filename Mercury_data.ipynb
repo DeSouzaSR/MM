{
 "cells": [
  {
   "cell_type": "markdown",
   "metadata": {},
   "source": [
    "# Mercury data\n",
    "This notebook provides the Mercury data for the simulation\n",
    "\n",
    "Author: Sandro Ricardo De Souza: <sandro.fisica@gmail.com>"
   ]
  },
  {
   "cell_type": "markdown",
   "metadata": {},
   "source": [
    "## Import modules"
   ]
  },
  {
   "cell_type": "code",
   "execution_count": 12,
   "metadata": {
    "collapsed": true
   },
   "outputs": [],
   "source": [
    "import numpy as np\n",
    "import pandas as pd\n",
    "import eo2pv\n",
    "import math"
   ]
  },
  {
   "cell_type": "code",
   "execution_count": 13,
   "metadata": {
    "collapsed": true
   },
   "outputs": [],
   "source": [
    "# Name for each Mercury's cadidates varying the semi-axis\n",
    "sufix_list = ['A', 'B', 'C', 'D', 'E', 'F', 'G', 'H', 'I', 'J']\n",
    "\n",
    "# Numbers of the Mercury's candidates varying the angles\n",
    "candidates_per_dist = 100\n",
    "\n",
    "# Conic section is ellipse\n",
    "ialpha = -1\n",
    "\n",
    "# Gravitational factor of the Sun\n",
    "gm =  2.959139768995959e-04"
   ]
  },
  {
   "cell_type": "code",
   "execution_count": 14,
   "metadata": {
    "collapsed": false
   },
   "outputs": [],
   "source": [
    "# Define semi-axis\n",
    "mercury_distances = np.arange(0.05, 0.55, 0.05)\n",
    "a = np.repeat(mercury_distances, candidates_per_dist)"
   ]
  },
  {
   "cell_type": "code",
   "execution_count": 15,
   "metadata": {
    "collapsed": false
   },
   "outputs": [],
   "source": [
    "# Define column Mercury Name\n",
    "mercury_name = []\n",
    "\n",
    "for char in sufix_list:\n",
    "    for number in range(candidates_per_dist):\n",
    "        name = 'mercury' + char + str(number)\n",
    "        mercury_name.append(name)\n",
    "\n",
    "mercury_name = pd.Series(mercury_name)"
   ]
  },
  {
   "cell_type": "code",
   "execution_count": 16,
   "metadata": {
    "collapsed": false
   },
   "outputs": [],
   "source": [
    "# Define e, i\n",
    "low_e = 0\n",
    "high_e = 0.05 \n",
    "\n",
    "low_i = 0\n",
    "high_i = 0.05\n",
    "\n",
    "numbers_mercurys = len(sufix_list) * candidates_per_dist\n",
    "\n",
    "e = pd.Series(np.random.uniform(low_e, high_e, numbers_mercurys))\n",
    "i = pd.Series(np.random.uniform(low_i, high_i, numbers_mercurys))"
   ]
  },
  {
   "cell_type": "code",
   "execution_count": 17,
   "metadata": {
    "collapsed": false
   },
   "outputs": [],
   "source": [
    "# Define capom omega e M\n",
    "capom = np.random.uniform(0, 360, numbers_mercurys)\n",
    "omega = np.random.uniform(0, 360, numbers_mercurys)\n",
    "M = np.random.uniform(0, 360, numbers_mercurys)"
   ]
  },
  {
   "cell_type": "code",
   "execution_count": 18,
   "metadata": {
    "collapsed": false
   },
   "outputs": [],
   "source": [
    "# Gerando o Data Frame inicial\n",
    "mercury = pd.DataFrame({'mercurys': mercury_name, 'a': a, 'e':e, 'i':i, 'capom':capom, 'omega':omega, 'M':M})\n",
    "mercury = mercury.set_index('mercurys')"
   ]
  },
  {
   "cell_type": "code",
   "execution_count": 19,
   "metadata": {
    "collapsed": true
   },
   "outputs": [],
   "source": [
    "# Including mass, radio and mass_grav (equals to the Earth)\n",
    "mass = 5.972300e+24\n",
    "mercury['mass'] = np.repeat(mass, numbers_mercurys)\n",
    "radio = 6378.137\n",
    "mercury['radio'] = np.repeat(radio, numbers_mercurys)\n",
    "mass_grav = 8.887539e-10\n",
    "mercury['mass_grav'] = np.repeat(mass_grav, numbers_mercurys) "
   ]
  },
  {
   "cell_type": "code",
   "execution_count": 20,
   "metadata": {
    "collapsed": true
   },
   "outputs": [],
   "source": [
    "# Including period for each mercury\n",
    "def periodoKepler(semi_axis, M_planet):\n",
    "    \"\"\"\n",
    "    Calculate the period using Kepler's third law\n",
    "    Input\n",
    "        semi_axis: semi-axis [au]\n",
    "        M_planet: mass of the planet [kg]\n",
    "    Output\n",
    "        period [days]\n",
    "    \"\"\"\n",
    "    M_sol_kg = 1.9891e30\n",
    "    M_sol_G = 2.959139768995959e-04\n",
    "    M_grav = M_sol_G * M_planet / M_sol_kg\n",
    "    period = np.sqrt(((2 * np.pi)**2 * semi_axis**3) / (M_sol_G + M_grav))\n",
    "    return(period)"
   ]
  },
  {
   "cell_type": "code",
   "execution_count": 21,
   "metadata": {
    "collapsed": true
   },
   "outputs": [],
   "source": [
    "period = periodoKepler(mercury.a, mercury.mass)\n",
    "\n",
    "mercury['period'] = period"
   ]
  },
  {
   "cell_type": "code",
   "execution_count": 22,
   "metadata": {
    "collapsed": false
   },
   "outputs": [],
   "source": [
    "x = np.zeros(numbers_mercurys)\n",
    "y = np.zeros(numbers_mercurys)\n",
    "z = np.zeros(numbers_mercurys)\n",
    "vx = np.zeros(numbers_mercurys)\n",
    "vy = np.zeros(numbers_mercurys)\n",
    "vz = np.zeros(numbers_mercurys)\n",
    "\n",
    "for j in range(len(mercury)):\n",
    "        x[j], y[j], z[j], vx[j], vy[j], vz[j] = eo2pv.orbel_el2xv(gm,ialpha,\\\n",
    "                                            a[j],e[j],math.radians(i[j]),\\\n",
    "                                            math.radians(capom[j]),math.radians(omega[j]),M[j])"
   ]
  },
  {
   "cell_type": "code",
   "execution_count": 23,
   "metadata": {
    "collapsed": false
   },
   "outputs": [],
   "source": [
    "# Create colums x, y, v, vx, vy and vz\n",
    "mercury['x'] = x\n",
    "mercury['y'] = y\n",
    "mercury['z'] = z\n",
    "mercury['vx'] = vx\n",
    "mercury['vy'] = vy\n",
    "mercury['vz'] = vz"
   ]
  },
  {
   "cell_type": "code",
   "execution_count": 27,
   "metadata": {
    "collapsed": false
   },
   "outputs": [
    {
     "data": {
      "text/html": [
       "<div>\n",
       "<table border=\"1\" class=\"dataframe\">\n",
       "  <thead>\n",
       "    <tr style=\"text-align: right;\">\n",
       "      <th></th>\n",
       "      <th>M</th>\n",
       "      <th>a</th>\n",
       "      <th>capom</th>\n",
       "      <th>e</th>\n",
       "      <th>i</th>\n",
       "      <th>omega</th>\n",
       "      <th>mass</th>\n",
       "      <th>radio</th>\n",
       "      <th>mass_grav</th>\n",
       "      <th>period</th>\n",
       "      <th>x</th>\n",
       "      <th>y</th>\n",
       "      <th>z</th>\n",
       "      <th>vx</th>\n",
       "      <th>vy</th>\n",
       "      <th>vz</th>\n",
       "    </tr>\n",
       "    <tr>\n",
       "      <th>mercurys</th>\n",
       "      <th></th>\n",
       "      <th></th>\n",
       "      <th></th>\n",
       "      <th></th>\n",
       "      <th></th>\n",
       "      <th></th>\n",
       "      <th></th>\n",
       "      <th></th>\n",
       "      <th></th>\n",
       "      <th></th>\n",
       "      <th></th>\n",
       "      <th></th>\n",
       "      <th></th>\n",
       "      <th></th>\n",
       "      <th></th>\n",
       "      <th></th>\n",
       "    </tr>\n",
       "  </thead>\n",
       "  <tbody>\n",
       "    <tr>\n",
       "      <th>mercuryA95</th>\n",
       "      <td>16.630291</td>\n",
       "      <td>0.05</td>\n",
       "      <td>327.503408</td>\n",
       "      <td>0.001260</td>\n",
       "      <td>0.005415</td>\n",
       "      <td>258.162750</td>\n",
       "      <td>5.972300e+24</td>\n",
       "      <td>6378.137</td>\n",
       "      <td>8.887539e-10</td>\n",
       "      <td>4.083678</td>\n",
       "      <td>-0.007307</td>\n",
       "      <td>0.049502</td>\n",
       "      <td>0.000004</td>\n",
       "      <td>-0.076036</td>\n",
       "      <td>-0.011302</td>\n",
       "      <td>-4.761334e-06</td>\n",
       "    </tr>\n",
       "    <tr>\n",
       "      <th>mercuryA96</th>\n",
       "      <td>194.150647</td>\n",
       "      <td>0.05</td>\n",
       "      <td>124.063508</td>\n",
       "      <td>0.043896</td>\n",
       "      <td>0.006419</td>\n",
       "      <td>202.899420</td>\n",
       "      <td>5.972300e+24</td>\n",
       "      <td>6378.137</td>\n",
       "      <td>8.887539e-10</td>\n",
       "      <td>4.083678</td>\n",
       "      <td>0.014820</td>\n",
       "      <td>-0.045927</td>\n",
       "      <td>0.000002</td>\n",
       "      <td>0.075126</td>\n",
       "      <td>0.026482</td>\n",
       "      <td>-8.634733e-06</td>\n",
       "    </tr>\n",
       "    <tr>\n",
       "      <th>mercuryA97</th>\n",
       "      <td>215.304098</td>\n",
       "      <td>0.05</td>\n",
       "      <td>13.471377</td>\n",
       "      <td>0.016152</td>\n",
       "      <td>0.037861</td>\n",
       "      <td>178.982697</td>\n",
       "      <td>5.972300e+24</td>\n",
       "      <td>6378.137</td>\n",
       "      <td>8.887539e-10</td>\n",
       "      <td>4.083678</td>\n",
       "      <td>0.017386</td>\n",
       "      <td>-0.046984</td>\n",
       "      <td>-0.000033</td>\n",
       "      <td>0.072426</td>\n",
       "      <td>0.025488</td>\n",
       "      <td>5.229916e-06</td>\n",
       "    </tr>\n",
       "    <tr>\n",
       "      <th>mercuryA98</th>\n",
       "      <td>170.493800</td>\n",
       "      <td>0.05</td>\n",
       "      <td>253.993189</td>\n",
       "      <td>0.046344</td>\n",
       "      <td>0.012827</td>\n",
       "      <td>205.004453</td>\n",
       "      <td>5.972300e+24</td>\n",
       "      <td>6378.137</td>\n",
       "      <td>8.887539e-10</td>\n",
       "      <td>4.083678</td>\n",
       "      <td>-0.042734</td>\n",
       "      <td>0.023000</td>\n",
       "      <td>-0.000011</td>\n",
       "      <td>-0.040025</td>\n",
       "      <td>-0.068373</td>\n",
       "      <td>-4.392067e-06</td>\n",
       "    </tr>\n",
       "    <tr>\n",
       "      <th>mercuryA99</th>\n",
       "      <td>163.125144</td>\n",
       "      <td>0.05</td>\n",
       "      <td>9.110025</td>\n",
       "      <td>0.006373</td>\n",
       "      <td>0.015967</td>\n",
       "      <td>155.120214</td>\n",
       "      <td>5.972300e+24</td>\n",
       "      <td>6378.137</td>\n",
       "      <td>8.887539e-10</td>\n",
       "      <td>4.083678</td>\n",
       "      <td>-0.043222</td>\n",
       "      <td>0.024515</td>\n",
       "      <td>0.000009</td>\n",
       "      <td>-0.038087</td>\n",
       "      <td>-0.067390</td>\n",
       "      <td>-1.686292e-05</td>\n",
       "    </tr>\n",
       "    <tr>\n",
       "      <th>mercuryB0</th>\n",
       "      <td>63.374230</td>\n",
       "      <td>0.10</td>\n",
       "      <td>256.655433</td>\n",
       "      <td>0.008348</td>\n",
       "      <td>0.032212</td>\n",
       "      <td>211.628907</td>\n",
       "      <td>5.972300e+24</td>\n",
       "      <td>6378.137</td>\n",
       "      <td>8.887539e-10</td>\n",
       "      <td>11.550385</td>\n",
       "      <td>-0.075900</td>\n",
       "      <td>0.064008</td>\n",
       "      <td>-0.000050</td>\n",
       "      <td>-0.035502</td>\n",
       "      <td>-0.041729</td>\n",
       "      <td>-1.400535e-05</td>\n",
       "    </tr>\n",
       "    <tr>\n",
       "      <th>mercuryB1</th>\n",
       "      <td>354.202349</td>\n",
       "      <td>0.10</td>\n",
       "      <td>246.477948</td>\n",
       "      <td>0.023079</td>\n",
       "      <td>0.002361</td>\n",
       "      <td>290.797716</td>\n",
       "      <td>5.972300e+24</td>\n",
       "      <td>6378.137</td>\n",
       "      <td>8.887539e-10</td>\n",
       "      <td>11.550385</td>\n",
       "      <td>0.069874</td>\n",
       "      <td>-0.073811</td>\n",
       "      <td>0.000004</td>\n",
       "      <td>0.039455</td>\n",
       "      <td>0.036153</td>\n",
       "      <td>8.962457e-07</td>\n",
       "    </tr>\n",
       "    <tr>\n",
       "      <th>mercuryB2</th>\n",
       "      <td>216.611896</td>\n",
       "      <td>0.10</td>\n",
       "      <td>47.762876</td>\n",
       "      <td>0.042669</td>\n",
       "      <td>0.018577</td>\n",
       "      <td>92.452866</td>\n",
       "      <td>5.972300e+24</td>\n",
       "      <td>6378.137</td>\n",
       "      <td>8.887539e-10</td>\n",
       "      <td>11.550385</td>\n",
       "      <td>0.069592</td>\n",
       "      <td>-0.077578</td>\n",
       "      <td>-0.000034</td>\n",
       "      <td>0.039043</td>\n",
       "      <td>0.034572</td>\n",
       "      <td>-1.837343e-06</td>\n",
       "    </tr>\n",
       "    <tr>\n",
       "      <th>mercuryB3</th>\n",
       "      <td>191.675243</td>\n",
       "      <td>0.10</td>\n",
       "      <td>142.371263</td>\n",
       "      <td>0.039339</td>\n",
       "      <td>0.003946</td>\n",
       "      <td>258.162776</td>\n",
       "      <td>5.972300e+24</td>\n",
       "      <td>6378.137</td>\n",
       "      <td>8.887539e-10</td>\n",
       "      <td>11.550385</td>\n",
       "      <td>-0.076561</td>\n",
       "      <td>-0.070286</td>\n",
       "      <td>0.000007</td>\n",
       "      <td>0.035424</td>\n",
       "      <td>-0.038476</td>\n",
       "      <td>6.090595e-07</td>\n",
       "    </tr>\n",
       "    <tr>\n",
       "      <th>mercuryB4</th>\n",
       "      <td>292.519892</td>\n",
       "      <td>0.10</td>\n",
       "      <td>103.068198</td>\n",
       "      <td>0.030481</td>\n",
       "      <td>0.012608</td>\n",
       "      <td>16.376995</td>\n",
       "      <td>5.972300e+24</td>\n",
       "      <td>6378.137</td>\n",
       "      <td>8.887539e-10</td>\n",
       "      <td>11.550385</td>\n",
       "      <td>0.076973</td>\n",
       "      <td>-0.068248</td>\n",
       "      <td>-0.000013</td>\n",
       "      <td>0.034661</td>\n",
       "      <td>0.039906</td>\n",
       "      <td>-9.415288e-06</td>\n",
       "    </tr>\n",
       "  </tbody>\n",
       "</table>\n",
       "</div>"
      ],
      "text/plain": [
       "                     M     a       capom         e         i       omega  \\\n",
       "mercurys                                                                   \n",
       "mercuryA95   16.630291  0.05  327.503408  0.001260  0.005415  258.162750   \n",
       "mercuryA96  194.150647  0.05  124.063508  0.043896  0.006419  202.899420   \n",
       "mercuryA97  215.304098  0.05   13.471377  0.016152  0.037861  178.982697   \n",
       "mercuryA98  170.493800  0.05  253.993189  0.046344  0.012827  205.004453   \n",
       "mercuryA99  163.125144  0.05    9.110025  0.006373  0.015967  155.120214   \n",
       "mercuryB0    63.374230  0.10  256.655433  0.008348  0.032212  211.628907   \n",
       "mercuryB1   354.202349  0.10  246.477948  0.023079  0.002361  290.797716   \n",
       "mercuryB2   216.611896  0.10   47.762876  0.042669  0.018577   92.452866   \n",
       "mercuryB3   191.675243  0.10  142.371263  0.039339  0.003946  258.162776   \n",
       "mercuryB4   292.519892  0.10  103.068198  0.030481  0.012608   16.376995   \n",
       "\n",
       "                    mass     radio     mass_grav     period         x  \\\n",
       "mercurys                                                                \n",
       "mercuryA95  5.972300e+24  6378.137  8.887539e-10   4.083678 -0.007307   \n",
       "mercuryA96  5.972300e+24  6378.137  8.887539e-10   4.083678  0.014820   \n",
       "mercuryA97  5.972300e+24  6378.137  8.887539e-10   4.083678  0.017386   \n",
       "mercuryA98  5.972300e+24  6378.137  8.887539e-10   4.083678 -0.042734   \n",
       "mercuryA99  5.972300e+24  6378.137  8.887539e-10   4.083678 -0.043222   \n",
       "mercuryB0   5.972300e+24  6378.137  8.887539e-10  11.550385 -0.075900   \n",
       "mercuryB1   5.972300e+24  6378.137  8.887539e-10  11.550385  0.069874   \n",
       "mercuryB2   5.972300e+24  6378.137  8.887539e-10  11.550385  0.069592   \n",
       "mercuryB3   5.972300e+24  6378.137  8.887539e-10  11.550385 -0.076561   \n",
       "mercuryB4   5.972300e+24  6378.137  8.887539e-10  11.550385  0.076973   \n",
       "\n",
       "                   y         z        vx        vy            vz  \n",
       "mercurys                                                          \n",
       "mercuryA95  0.049502  0.000004 -0.076036 -0.011302 -4.761334e-06  \n",
       "mercuryA96 -0.045927  0.000002  0.075126  0.026482 -8.634733e-06  \n",
       "mercuryA97 -0.046984 -0.000033  0.072426  0.025488  5.229916e-06  \n",
       "mercuryA98  0.023000 -0.000011 -0.040025 -0.068373 -4.392067e-06  \n",
       "mercuryA99  0.024515  0.000009 -0.038087 -0.067390 -1.686292e-05  \n",
       "mercuryB0   0.064008 -0.000050 -0.035502 -0.041729 -1.400535e-05  \n",
       "mercuryB1  -0.073811  0.000004  0.039455  0.036153  8.962457e-07  \n",
       "mercuryB2  -0.077578 -0.000034  0.039043  0.034572 -1.837343e-06  \n",
       "mercuryB3  -0.070286  0.000007  0.035424 -0.038476  6.090595e-07  \n",
       "mercuryB4  -0.068248 -0.000013  0.034661  0.039906 -9.415288e-06  "
      ]
     },
     "execution_count": 27,
     "metadata": {},
     "output_type": "execute_result"
    }
   ],
   "source": [
    "mercury[95:105]"
   ]
  },
  {
   "cell_type": "code",
   "execution_count": 25,
   "metadata": {
    "collapsed": true
   },
   "outputs": [],
   "source": [
    "# Create csv files from Mercury data\n",
    "mercury.to_csv('Planets/mercury.csv')"
   ]
  }
 ],
 "metadata": {
  "kernelspec": {
   "display_name": "Python 3",
   "language": "python",
   "name": "python3"
  },
  "language_info": {
   "codemirror_mode": {
    "name": "ipython",
    "version": 3
   },
   "file_extension": ".py",
   "mimetype": "text/x-python",
   "name": "python",
   "nbconvert_exporter": "python",
   "pygments_lexer": "ipython3",
   "version": "3.6.0"
  }
 },
 "nbformat": 4,
 "nbformat_minor": 2
}
